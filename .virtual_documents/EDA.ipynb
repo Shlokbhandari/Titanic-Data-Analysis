import pandas as pd
import matplotlib.pyplot as plt
import seaborn as sns


df = pd.read_csv("train.csv")
df["Age"] = df["Age"].fillna(df["Age"].median())
df["Embarked"] = df["Embarked"].fillna(df["Embarked"].mode()[0])
df = df.drop(columns = "Cabin", axis = 1)
df


survival_by_gender = df.groupby("Sex")["Survived"].mean()
plt.bar(survival_by_gender.index,survival_by_gender.values)
plt.title("Titanic Survival Rate by Gender")
plt.xlabel("Gender")
plt.ylabel("Suvival Rate")
plt.show()


survival_by_class = df.groupby("Pclass")["Survived"].mean()
plt.bar(survival_by_class.index,survival_by_class.values)
plt.title("Titanic Survival Rate by Class")
plt.xlabel("Pclass")
plt.ylabel("Suvival Rate")
plt.show()


sns.barplot(x="Pclass", y="Survived",hue = "Sex", data = df)
plt.title("Gender and Pclass survival")
plt.show()


sns.histplot(x="Age", hue = "Survived", data = df)
plt.show()



